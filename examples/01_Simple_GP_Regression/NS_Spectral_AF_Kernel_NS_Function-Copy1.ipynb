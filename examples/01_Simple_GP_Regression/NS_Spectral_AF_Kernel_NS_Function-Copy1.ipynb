{
 "cells": [
  {
   "cell_type": "markdown",
   "metadata": {},
   "source": [
    "# GPyTorch Regression Tutorial\n",
    "\n",
    "## Introduction\n",
    "\n",
    "In this notebook, we demonstrate many of the design features of GPyTorch using the simplest example, training an RBF kernel Gaussian process on a simple function. We'll be modeling the function\n",
    "\n",
    "\\begin{align*}\n",
    "  y &= \\sin(2\\pi x) + \\epsilon \\\\\n",
    "  \\epsilon &\\sim \\mathcal{N}(0, 0.2)\n",
    "\\end{align*}\n",
    "\n",
    "with 11 training examples, and testing on 51 test examples.\n",
    "\n",
    "**Note:** this notebook is not necessarily intended to teach the mathematical background of Gaussian processes, but rather how to train a simple one and make predictions in GPyTorch. For a mathematical treatment, Chapter 2 of Gaussian Processes for Machine Learning provides a very thorough introduction to GP regression (this entire text is highly recommended): http://www.gaussianprocess.org/gpml/chapters/RW2.pdf"
   ]
  },
  {
   "cell_type": "code",
   "execution_count": 1,
   "metadata": {},
   "outputs": [
    {
     "name": "stdout",
     "output_type": "stream",
     "text": [
      "env: CUDA_VISIBLE_DEVICES=0\n"
     ]
    }
   ],
   "source": [
    "import math\n",
    "import torch\n",
    "import gpytorch\n",
    "from matplotlib import pyplot as plt\n",
    "\n",
    "torch.set_default_dtype(torch.float64)\n",
    "%set_env CUDA_VISIBLE_DEVICES=0\n",
    "\n",
    "%matplotlib inline\n",
    "%load_ext autoreload\n",
    "%autoreload 2"
   ]
  },
  {
   "cell_type": "markdown",
   "metadata": {},
   "source": [
    "### Set up training data\n",
    "\n",
    "In the next cell, we set up the training data for this example. We'll be using 11 regularly spaced points on [0,1] which we evaluate the function on and add Gaussian noise to get the training labels."
   ]
  },
  {
   "cell_type": "code",
   "execution_count": 2,
   "metadata": {},
   "outputs": [],
   "source": [
    "from scipy.io import loadmat\n",
    "data = loadmat('01-airline-s.mat')"
   ]
  },
  {
   "cell_type": "code",
   "execution_count": 4,
   "metadata": {},
   "outputs": [
    {
     "name": "stdout",
     "output_type": "stream",
     "text": [
      "torch.Size([200, 1]) torch.Size([200])\n"
     ]
    },
    {
     "data": {
      "text/plain": [
       "[<matplotlib.lines.Line2D at 0x7f43310f1e80>]"
      ]
     },
     "execution_count": 4,
     "metadata": {},
     "output_type": "execute_result"
    },
    {
     "data": {
      "image/png": "[encoded data removed]",
      "text/plain": [
       "<Figure size 432x288 with 1 Axes>"
      ]
     },
     "metadata": {
      "needs_background": "light"
     },
     "output_type": "display_data"
    }
   ],
   "source": [
    "X = torch.from_numpy(data['X']).cuda()\n",
    "y = torch.from_numpy(data['y']).squeeze().cuda()\n",
    "n_train = 85\n",
    "\n",
    "train_x = X[:n_train]\n",
    "train_y = y[:n_train]\n",
    "rest_x = X[n_train:]\n",
    "rest_y = y[n_train:]\n",
    "\n",
    "from scipy.interpolate import CubicSpline\n",
    "spline = CubicSpline(train_x.cpu().numpy().ravel(), train_y.cpu().numpy())\n",
    "train_x = torch.linspace(train_x[0].item(), train_x[-1].item(), 200)\n",
    "train_y = spline(train_x)\n",
    "train_x = train_x.cuda().unsqueeze(-1)\n",
    "train_y = torch.from_numpy(train_y).cuda()\n",
    "\n",
    "print(train_x.shape, train_y.shape)\n",
    "# def func(train_x):\n",
    "#     y = torch.sin(train_x * (3 * math.pi)) + torch.sin(train_x * (2 * math.pi)) + torch.sin(train_x * (math.pi))\n",
    "#     y = y * (train_x / 5.)\n",
    "#     y = y.squeeze(-1).cuda()\n",
    "#     y = y + train_x.squeeze()\n",
    "#     y = y + 0.2 * torch.randn(train_x.squeeze(-1).size()).cuda()\n",
    "#     return y\n",
    "\n",
    "# # # # # Training data is 11 points in [0,1] inclusive regularly spaced\n",
    "# train_x = torch.linspace(0, 10, 500).unsqueeze(-1).cuda()\n",
    "# # # # # True function is sin(2*pi*x) with Gaussian noise\n",
    "# train_y = func(train_x)\n",
    "\n",
    "# # train_y = torch.sin(train_x * (3 * math.pi)) + torch.sin(train_x * (2 * math.pi)) + torch.sin(train_x * (math.pi))\n",
    "# # train_y = train_y * train_x\n",
    "# # # # # train_y = torch.sin(train_x * (2 * math.pi)) + 0.1 * torch.randn(train_x.size()).cuda()\n",
    "# # train_y = train_y.squeeze(-1).cuda()\n",
    "# # train_y = train_y + train_x.squeeze()\n",
    "# # train_y = train_y + 0.2 * torch.randn(train_x.squeeze(-1).size()).cuda()\n",
    "\n",
    "plt.plot(train_x.squeeze().cpu(), train_y.squeeze().cpu())"
   ]
  },
  {
   "cell_type": "markdown",
   "metadata": {},
   "source": [
    "## Setting up the model\n",
    "\n",
    "The next cell demonstrates the most critical features of a user-defined Gaussian process model in GPyTorch. Building a GP model in GPyTorch is different in a number of ways.\n",
    "\n",
    "First in contrast to many existing GP packages, we do not provide full GP models for the user. Rather, we provide *the tools necessary to quickly construct one*. This is because we believe, analogous to building a neural network in standard PyTorch, it is important to have the flexibility to include whatever components are necessary. As can be seen in more complicated examples, like the [CIFAR10 Deep Kernel Learning](../08_Deep_Kernel_Learning/Deep_Kernel_Learning_DenseNet_CIFAR_Tutorial.ipynb) example which combines deep learning and Gaussian processes, this allows the user great flexibility in designing custom models.\n",
    "\n",
    "For most GP regression models, you will need to construct the following GPyTorch objects:\n",
    "\n",
    "1. A **GP Model** (`gpytorch.models.ExactGP`) -  This handles most of the inference.\n",
    "1. A **Likelihood** (`gpytorch.likelihoods.GaussianLikelihood`) - This is the most common likelihood used for GP regression.\n",
    "1. A **Mean** - This defines the prior mean of the GP.\n",
    "  - If you don't know which mean to use, a `gpytorch.means.ConstantMean()` is a good place to start.\n",
    "1. A **Kernel** - This defines the prior covariance of the GP.\n",
    "  - If you don't know which kernel to use, a `gpytorch.kernels.ScaleKernel(gpytorch.kernels.RBFKernel())` is a good place to start.\n",
    "1. A **MultivariateNormal** Distribution (`gpytorch.distributions.MultivariateNormal`) - This is the object used to represent multivariate normal distributions.\n",
    "  \n",
    "  \n",
    "### The GP Model\n",
    "  \n",
    "The components of a user built (Exact, i.e. non-variational) GP model in GPyTorch are, broadly speaking:\n",
    "\n",
    "1. An `__init__` method that takes the training data and a likelihood, and constructs whatever objects are necessary for the model's `forward` method. This will most commonly include things like a mean module and a kernel module.\n",
    "\n",
    "2. A `forward` method that takes in some $n \\times d$ data `x` and returns a `MultivariateNormal` with the *prior* mean and covariance evaluated at `x`. In other words, we return the vector $\\mu(x)$ and the $n \\times n$ matrix $K_{xx}$ representing the prior mean and covariance matrix of the GP. \n",
    "\n",
    "This specification leaves a large amount of flexibility when defining a model. For example, to compose two kernels via addition, you can either add the kernel modules directly:\n",
    "\n",
    "```python\n",
    "self.covar_module = ScaleKernel(RBFKernel() + WhiteNoiseKernel())\n",
    "```\n",
    "\n",
    "Or you can add the outputs of the kernel in the forward method:\n",
    "\n",
    "```python\n",
    "covar_x = self.rbf_kernel_module(x) + self.white_noise_module(x)\n",
    "```"
   ]
  },
  {
   "cell_type": "code",
   "execution_count": 5,
   "metadata": {},
   "outputs": [
    {
     "data": {
      "text/plain": [
       "tensor([0.0101], device='cuda:0')"
      ]
     },
     "execution_count": 5,
     "metadata": {},
     "output_type": "execute_result"
    }
   ],
   "source": [
    "train_x[4] - train_x[3]"
   ]
  },
  {
   "cell_type": "code",
   "execution_count": 13,
   "metadata": {},
   "outputs": [
    {
     "name": "stdout",
     "output_type": "stream",
     "text": [
      "ExactGPModel(\n",
      "  (likelihood): GaussianLikelihood(\n",
      "    (noise_covar): HomoskedasticNoise(\n",
      "      (raw_noise_constraint): Positive()\n",
      "    )\n",
      "    (noise_prior): HorseshoePrior()\n",
      "  )\n",
      "  (mean_module): LinearMean()\n",
      "  (covar_module): NSSAFKernel2(\n",
      "    (raw_lengthscale_constraint): Positive()\n",
      "    (dsf): BlockAutoregressive()\n",
      "  )\n",
      ")\n"
     ]
    }
   ],
   "source": [
    "from gpytorch.kernels.spectral_autoregressive_flow_kernel import SpectralAutoregressiveFlowKernel, NonStationarySpectralAutoregressiveFlowKernel, NSSAFKernel2\n",
    "# We will use the simplest form of GP model, exact inference\n",
    "\n",
    "data_delta = (train_x[4] - train_x[3]).item()\n",
    "\n",
    "class ExactGPModel(gpytorch.models.ExactGP):\n",
    "    def __init__(self, train_x, train_y, likelihood):\n",
    "        super(ExactGPModel, self).__init__(train_x, train_y, likelihood)\n",
    "        self.mean_module = gpytorch.means.LinearMean(1)\n",
    "#         self.mean_module = gpytorch.means.ZeroMean()\n",
    "        base_covar_module = NSSAFKernel2(\n",
    "            num_dims=train_x.size(-1),\n",
    "            stack_size=1,\n",
    "            hidden_factors=[8, 8],\n",
    "#             activation='tanh',\n",
    "#             residual='gated',\n",
    "        )\n",
    "        self.covar_module = base_covar_module\n",
    "    \n",
    "    def forward(self, x):\n",
    "        mean_x = self.mean_module(x)\n",
    "        covar_x = self.covar_module(x)\n",
    "        return gpytorch.distributions.MultivariateNormal(mean_x, covar_x)\n",
    "\n",
    "# initialize likelihood and model\n",
    "likelihood = gpytorch.likelihoods.GaussianLikelihood(noise_constraint=gpytorch.constraints.Positive()).cuda()\n",
    "model = ExactGPModel(train_x, train_y, likelihood).cuda()\n",
    "likelihood.register_prior(\"noise_prior\", gpytorch.priors.HorseshoePrior(0.000001), \"noise\")\n",
    "# model.covar_module.base_kernel.register_prior(\n",
    "#     \"lengthscale_prior\",\n",
    "#     gpytorch.priors.SmoothedBoxPrior(torch.tensor(0.01).cuda(), torch.tensor(0.2).cuda()),\n",
    "#     \"lengthscale\"\n",
    "# )\n",
    "print(model)"
   ]
  },
  {
   "cell_type": "markdown",
   "metadata": {},
   "source": [
    "### Model modes\n",
    "\n",
    "Like most PyTorch modules, the `ExactGP` has a `.train()` and `.eval()` mode.\n",
    "- `.train()` mode is for optimizing model hyperameters.\n",
    "- `.eval()` mode is for computing predictions through the model posterior."
   ]
  },
  {
   "cell_type": "markdown",
   "metadata": {},
   "source": [
    "## Training the model\n",
    "\n",
    "In the next cell, we handle using Type-II MLE to train the hyperparameters of the Gaussian process.\n",
    "\n",
    "The most obvious difference here compared to many other GP implementations is that, as in standard PyTorch, the core training loop is written by the user. In GPyTorch, we make use of the standard PyTorch optimizers as from `torch.optim`, and all trainable parameters of the model should be of type `torch.nn.Parameter`. Because GP models directly extend `torch.nn.Module`, calls to methods like `model.parameters()` or `model.named_parameters()` function as you might expect coming from PyTorch.\n",
    "\n",
    "In most cases, the boilerplate code below will work well. It has the same basic components as the standard PyTorch training loop:\n",
    "\n",
    "1. Zero all parameter gradients\n",
    "2. Call the model and compute the loss\n",
    "3. Call backward on the loss to fill in gradients\n",
    "4. Take a step on the optimizer\n",
    "\n",
    "However, defining custom training loops allows for greater flexibility. For example, it is easy to save the parameters at each step of training, or use different learning rates for different parameters (which may be useful in deep kernel learning for example)."
   ]
  },
  {
   "cell_type": "code",
   "execution_count": null,
   "metadata": {
    "scrolled": false
   },
   "outputs": [
    {
     "name": "stdout",
     "output_type": "stream",
     "text": [
      "Iter 0/2000 - Loss: 0.05\n",
      "Iter 50/2000 - Loss: 0.05\n",
      "Iter 100/2000 - Loss: 0.05\n",
      "Iter 150/2000 - Loss: 0.05\n",
      "Iter 200/2000 - Loss: 0.05\n",
      "Iter 250/2000 - Loss: 0.05\n",
      "Iter 300/2000 - Loss: 0.05\n",
      "Iter 350/2000 - Loss: 0.05\n",
      "Iter 400/2000 - Loss: 0.05\n",
      "Iter 450/2000 - Loss: 0.05\n",
      "Iter 500/2000 - Loss: 0.05\n",
      "Iter 550/2000 - Loss: 0.05\n",
      "Iter 600/2000 - Loss: 0.05\n",
      "Iter 650/2000 - Loss: 0.05\n",
      "Iter 700/2000 - Loss: 0.05\n",
      "Iter 750/2000 - Loss: 0.05\n",
      "Iter 800/2000 - Loss: 0.05\n",
      "Iter 850/2000 - Loss: 0.05\n",
      "Iter 900/2000 - Loss: 0.05\n",
      "Iter 950/2000 - Loss: 0.05\n",
      "Iter 1000/2000 - Loss: 0.05\n",
      "Iter 1050/2000 - Loss: 0.05\n",
      "Iter 1100/2000 - Loss: 0.05\n",
      "Iter 1150/2000 - Loss: 0.05\n",
      "Iter 1200/2000 - Loss: 0.05\n",
      "Iter 1250/2000 - Loss: 0.05\n",
      "Iter 1300/2000 - Loss: 0.05\n",
      "Iter 1350/2000 - Loss: 0.05\n",
      "Iter 1400/2000 - Loss: 0.05\n",
      "Iter 1450/2000 - Loss: 0.05\n",
      "Iter 1500/2000 - Loss: 0.05\n"
     ]
    }
   ],
   "source": [
    "# Find optimal model hyperparameters\n",
    "model.train()\n",
    "likelihood.train()\n",
    "\n",
    "# Use the adam optimizer\n",
    "optimizer = torch.optim.Adam([\n",
    "    {'params': model.parameters()},  # Includes GaussianLikelihood parameters\n",
    "], lr=0.01)\n",
    "\n",
    "scheduler = torch.optim.lr_scheduler.MultiStepLR(optimizer=optimizer, milestones=[500, 1000, 1500], gamma=0.1)\n",
    "\n",
    "# \"Loss\" for GPs - the marginal log likelihood\n",
    "mll = gpytorch.mlls.ExactMarginalLogLikelihood(likelihood, model)\n",
    "\n",
    "training_iter = 2000\n",
    "with gpytorch.settings.max_cholesky_size(2000):\n",
    "    for i in range(training_iter):\n",
    "        # Zero gradients from previous iteration\n",
    "        optimizer.zero_grad()\n",
    "        # Output from model\n",
    "        output = model(train_x)\n",
    "        # Calc loss and backprop gradients\n",
    "        loss = -mll(output, train_y)\n",
    "        loss.backward()\n",
    "        if i % 50 == 0:\n",
    "            print(f'Iter {i}/{training_iter} - Loss: {loss.item():.2f}')\n",
    "        optimizer.step()\n",
    "#         scheduler.step()"
   ]
  },
  {
   "cell_type": "markdown",
   "metadata": {},
   "source": [
    "## Make predictions with the model\n",
    "\n",
    "In the next cell, we make predictions with the model. To do this, we simply put the model and likelihood in eval mode, and call both modules on the test data.\n",
    "\n",
    "Just as a user defined GP model returns a `MultivariateNormal` containing the prior mean and covariance from forward, a trained GP model in eval mode returns a `MultivariateNormal` containing the posterior mean and covariance. Thus, getting the predictive mean and variance, and then sampling functions from the GP at the given test points could be accomplished with calls like:\n",
    "\n",
    "```python\n",
    "f_preds = model(test_x)\n",
    "y_preds = likelihood(model(test_x))\n",
    "\n",
    "f_mean = f_preds.mean\n",
    "f_var = f_preds.variance\n",
    "f_covar = f_preds.covariance_matrix\n",
    "f_samples = f_preds.sample(sample_shape=torch.Size(1000,))\n",
    "```\n",
    "\n",
    "The `gpytorch.settings.fast_pred_var` context is not needed, but here we are giving a preview of using one of our cool features, getting faster predictive distributions using [LOVE](https://arxiv.org/abs/1803.06058)."
   ]
  },
  {
   "cell_type": "code",
   "execution_count": 15,
   "metadata": {},
   "outputs": [
    {
     "data": {
      "text/plain": [
       "tensor(0.2997, device='cuda:0')"
      ]
     },
     "execution_count": 15,
     "metadata": {},
     "output_type": "execute_result"
    }
   ],
   "source": [
    "train_x.max()"
   ]
  },
  {
   "cell_type": "code",
   "execution_count": 16,
   "metadata": {},
   "outputs": [],
   "source": [
    "# Get into evaluation (predictive posterior) mode\n",
    "model.eval()\n",
    "likelihood.eval()\n",
    "\n",
    "# Test points are regularly spaced along [0,1]\n",
    "# Make predictions by feeding model through likelihood\n",
    "with torch.no_grad():\n",
    "    test_x = torch.linspace(-1.75, 1, 500).cuda()\n",
    "#     test_y = func(test_x)\n",
    "    observed_pred = likelihood(model(test_x))"
   ]
  },
  {
   "cell_type": "markdown",
   "metadata": {},
   "source": [
    "## Plot the model fit\n",
    "\n",
    "In the next cell, we plot the mean and confidence region of the Gaussian process model. The `confidence_region` method is a helper method that returns 2 standard deviations above and below the mean."
   ]
  },
  {
   "cell_type": "code",
   "execution_count": 17,
   "metadata": {
    "scrolled": false
   },
   "outputs": [
    {
     "data": {
      "image/png": "[encoded data removed]",
      "text/plain": [
       "<Figure size 1152x864 with 1 Axes>"
      ]
     },
     "metadata": {
      "needs_background": "light"
     },
     "output_type": "display_data"
    }
   ],
   "source": [
    "with torch.no_grad():\n",
    "    # Initialize plot\n",
    "    f, ax = plt.subplots(1, 1, figsize=(16, 12))\n",
    "\n",
    "    # Get upper and lower confidence bounds\n",
    "    lower, upper = observed_pred.confidence_region()\n",
    "    # Plot training data as black stars\n",
    "    ax.plot(train_x.detach().cpu().numpy(), train_y.detach().cpu().numpy(), 'k*')\n",
    "    ax.plot(rest_x.detach().cpu().numpy(), rest_y.detach().cpu().numpy(), 'r*')\n",
    "    # Plot predictive means as blue line\n",
    "    ax.plot(test_x.detach().cpu().numpy(), observed_pred.mean.detach().cpu().numpy(), 'b')\n",
    "    # Shade between the lower and upper confidence bounds\n",
    "    ax.fill_between(test_x.detach().cpu().numpy(), lower.detach().cpu().numpy(), upper.detach().cpu().numpy(), alpha=0.5)\n",
    "#     ax.set_ylim([-3, 3])\n",
    "    ax.legend(['Observed Data', 'Mean', 'Confidence'])"
   ]
  },
  {
   "cell_type": "code",
   "execution_count": 64,
   "metadata": {},
   "outputs": [
    {
     "name": "stdout",
     "output_type": "stream",
     "text": [
      "torch.Size([1000, 2])\n"
     ]
    }
   ],
   "source": [
    "from pyro import distributions as dist\n",
    "\n",
    "base_dist = dist.Normal(torch.zeros(2).cuda(), torch.ones(2).cuda())\n",
    "td = dist.TransformedDistribution(base_dist, model.covar_module.dsf)\n",
    "samples = td.rsample([1000])\n",
    "print(samples.shape)"
   ]
  },
  {
   "cell_type": "code",
   "execution_count": 18,
   "metadata": {},
   "outputs": [
    {
     "data": {
      "text/plain": [
       "[<matplotlib.lines.Line2D at 0x7f42e60d4b38>]"
      ]
     },
     "execution_count": 18,
     "metadata": {},
     "output_type": "execute_result"
    },
    {
     "data": {
      "image/png": "[encoded data removed]",
      "text/plain": [
       "<Figure size 432x288 with 1 Axes>"
      ]
     },
     "metadata": {
      "needs_background": "light"
     },
     "output_type": "display_data"
    }
   ],
   "source": [
    "x0 = torch.tensor([0.]).cuda()\n",
    "x1 = torch.linspace(0, 10, 500).unsqueeze(-1).cuda()\n",
    "plt.plot(model.covar_module.forward(x0, x1).squeeze().cpu().detach().numpy())"
   ]
  },
  {
   "cell_type": "code",
   "execution_count": 17,
   "metadata": {},
   "outputs": [
    {
     "data": {
      "text/plain": [
       "tensor([[2.6730]], device='cuda:0', grad_fn=<SoftplusBackward>)"
      ]
     },
     "execution_count": 17,
     "metadata": {},
     "output_type": "execute_result"
    }
   ],
   "source": [
    "model.covar_module.lengthscale"
   ]
  },
  {
   "cell_type": "code",
   "execution_count": 65,
   "metadata": {},
   "outputs": [
    {
     "data": {
      "text/plain": [
       "(array([950.,  22.,   0.,   0.,   1.,   0.,   1.,   0.,   0.,   0.,   0.,\n",
       "          0.,   0.,   0.,   0.,   0.,   2.,   0.,   0.,   0.,   0.,   0.,\n",
       "          1.,   0.,   0.,   0.,   0.,   0.,   1.,  22.]),\n",
       " array([-1.44398087, -1.37944732, -1.31491378, -1.25038023, -1.18584668,\n",
       "        -1.12131314, -1.05677959, -0.99224604, -0.9277125 , -0.86317895,\n",
       "        -0.7986454 , -0.73411186, -0.66957831, -0.60504476, -0.54051122,\n",
       "        -0.47597767, -0.41144412, -0.34691058, -0.28237703, -0.21784348,\n",
       "        -0.15330994, -0.08877639, -0.02424284,  0.0402907 ,  0.10482425,\n",
       "         0.1693578 ,  0.23389134,  0.29842489,  0.36295844,  0.42749198,\n",
       "         0.49202553]),\n",
       " <a list of 30 Patch objects>)"
      ]
     },
     "execution_count": 65,
     "metadata": {},
     "output_type": "execute_result"
    },
    {
     "data": {
      "image/png": "[encoded data removed]",
      "text/plain": [
       "<Figure size 432x288 with 1 Axes>"
      ]
     },
     "metadata": {
      "needs_background": "light"
     },
     "output_type": "display_data"
    }
   ],
   "source": [
    "plt.hist(samples[:, 0].cpu().detach().numpy(), bins=30)"
   ]
  },
  {
   "cell_type": "code",
   "execution_count": 66,
   "metadata": {},
   "outputs": [
    {
     "data": {
      "text/plain": [
       "(array([340., 127.,   1.,   1.,   0.,   2.,   1.,   1.,   0.,  18.,   0.,\n",
       "          0.,   0.,   0.,   0.,   0.,   0.,   0.,   0.,   1.,  32., 442.,\n",
       "         29.,   0.,   0.,   0.,   0.,   1.,   0.,   4.]),\n",
       " array([-0.521559  , -0.4539332 , -0.38630741, -0.31868162, -0.25105583,\n",
       "        -0.18343004, -0.11580425, -0.04817846,  0.01944733,  0.08707312,\n",
       "         0.15469891,  0.2223247 ,  0.28995049,  0.35757628,  0.42520208,\n",
       "         0.49282787,  0.56045366,  0.62807945,  0.69570524,  0.76333103,\n",
       "         0.83095682,  0.89858261,  0.9662084 ,  1.03383419,  1.10145998,\n",
       "         1.16908577,  1.23671157,  1.30433736,  1.37196315,  1.43958894,\n",
       "         1.50721473]),\n",
       " <a list of 30 Patch objects>)"
      ]
     },
     "execution_count": 66,
     "metadata": {},
     "output_type": "execute_result"
    },
    {
     "data": {
      "image/png": "[encoded data removed]",
      "text/plain": [
       "<Figure size 432x288 with 1 Axes>"
      ]
     },
     "metadata": {
      "needs_background": "light"
     },
     "output_type": "display_data"
    }
   ],
   "source": [
    "plt.hist(samples[:, 1].cpu().detach().numpy(), bins=30)"
   ]
  },
  {
   "cell_type": "code",
   "execution_count": null,
   "metadata": {},
   "outputs": [],
   "source": []
  }
 ],
 "metadata": {
  "anaconda-cloud": {},
  "kernelspec": {
   "display_name": "Python 3",
   "language": "python",
   "name": "python3"
  },
  "language_info": {
   "codemirror_mode": {
    "name": "ipython",
    "version": 3
   },
   "file_extension": ".py",
   "mimetype": "text/x-python",
   "name": "python",
   "nbconvert_exporter": "python",
   "pygments_lexer": "ipython3",
   "version": "3.7.1"
  }
 },
 "nbformat": 4,
 "nbformat_minor": 1
}
